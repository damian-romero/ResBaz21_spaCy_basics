{
 "cells": [
  {
   "cell_type": "markdown",
   "id": "26f13283",
   "metadata": {},
   "source": [
    "# Basics of text processing with spaCy: First Notebook"
   ]
  },
  {
   "cell_type": "markdown",
   "id": "90c595dc",
   "metadata": {},
   "source": [
    "Welcome to Jupyter notebooks! This is a practice notebook. You can edit any of these cells and run them with the `Run` button above, or using `ctrl + enter`. You can find a full ist of shortcuts under the `Help/Keyboard Shortcuts` menu above."
   ]
  },
  {
   "cell_type": "markdown",
   "id": "bbf39470",
   "metadata": {},
   "source": [
    "### I. Load spaCy"
   ]
  },
  {
   "cell_type": "markdown",
   "id": "8489812a",
   "metadata": {},
   "source": [
    "If you already installed [spaCy](https://spacy.io/usage), run the following cell to *import spaCy*. The cell should run. Otherwise, you will get an error."
   ]
  },
  {
   "cell_type": "code",
   "execution_count": 9,
   "id": "32ca1307",
   "metadata": {},
   "outputs": [],
   "source": [
    "import spacy"
   ]
  },
  {
   "cell_type": "markdown",
   "id": "40b96d70",
   "metadata": {},
   "source": [
    "### II. Load spaCy's language models"
   ]
  },
  {
   "cell_type": "markdown",
   "id": "bccc189f",
   "metadata": {},
   "source": [
    "Now, let's load the language models that we previously downloaded. If you did not download the language models, exit this notebook (close the window, then `ctrl + c` on the terminal that you used to open it) go back to the README.md or do `python -m spacy download en_core_web_sm` and `python -m spacy download en_core_web_trf`, and restart this notebook."
   ]
  },
  {
   "cell_type": "code",
   "execution_count": 87,
   "id": "178acf3b",
   "metadata": {
    "scrolled": true
   },
   "outputs": [],
   "source": [
    "nlp_eff = spacy.load(\"en_core_web_sm\") # Loads the web_sm model: - Size, but + Efficient\n",
    "nlp_acc = spacy.load(\"en_core_web_trf\") # Loads the web_trf model: + Size, but + Accurate"
   ]
  },
  {
   "cell_type": "markdown",
   "id": "d558a400",
   "metadata": {},
   "source": [
    "### III. Add some data and process it with the language models"
   ]
  },
  {
   "cell_type": "markdown",
   "id": "25bb256f",
   "metadata": {},
   "source": [
    "Let's create a sentence and process it. You can alter the sentence below as you like, but remember to run the cell every time you alter it so that the code below knows the new sentence."
   ]
  },
  {
   "cell_type": "code",
   "execution_count": 108,
   "id": "a9c167f6",
   "metadata": {},
   "outputs": [],
   "source": [
    "sentence = \"Jane likes flying to Tokio for business.\"\n",
    "\n",
    "# Now, let's process the sentence above using the two different language models for later comparison:\n",
    "sentence_eff = nlp_eff(sentence) # en_core_web_sm\n",
    "sentence_acc = nlp_acc(sentence) # en_core_web_trf"
   ]
  },
  {
   "cell_type": "markdown",
   "id": "e557ef5b",
   "metadata": {},
   "source": [
    "### IV. Dependencies"
   ]
  },
  {
   "cell_type": "markdown",
   "id": "101521c9",
   "metadata": {},
   "source": [
    "Let's take a look at the [dependencies](https://web.stanford.edu/~jurafsky/slp3/14.pdf) detected by spaCy. We will use spaCy's `displacy` submodule to graph these dependencies. But first, let's add some configuration for our graph. You can play with the options below, just remember to run the cell every time you alter something."
   ]
  },
  {
   "cell_type": "code",
   "execution_count": 112,
   "id": "3d11f047",
   "metadata": {},
   "outputs": [],
   "source": [
    "# `compact: True` will show a squared version of the dependency tree\n",
    "# `add_lemma: True` will show a the `base form` of each word in the sentence\n",
    "# `color: \"#000000\"` displays a black tree, but you can use color names or hex codes to change this\n",
    "options_dep = {\"compact\": True, \"add_lemma\": True, \"color\": \"#000000\"}"
   ]
  },
  {
   "cell_type": "markdown",
   "id": "a44393c8",
   "metadata": {},
   "source": [
    "Now, graph the dependency tree for our sentence. We'll use `sentence_eff` in this case, but you can use either."
   ]
  },
  {
   "cell_type": "code",
   "execution_count": 113,
   "id": "dda487d8",
   "metadata": {},
   "outputs": [
    {
     "data": {
      "text/html": [
       "<span class=\"tex2jax_ignore\"><svg xmlns=\"http://www.w3.org/2000/svg\" xmlns:xlink=\"http://www.w3.org/1999/xlink\" xml:lang=\"en\" id=\"73a429cc6b9f4ee999ea5fc978fb97fa-0\" class=\"displacy\" width=\"1100\" height=\"287.0\" direction=\"ltr\" style=\"max-width: none; height: 287.0px; color: #000000; background: #ffffff; font-family: Arial; direction: ltr\">\n",
       "<text class=\"displacy-token\" fill=\"currentColor\" text-anchor=\"middle\" y=\"197.0\">\n",
       "    <tspan class=\"displacy-word\" fill=\"currentColor\" x=\"50\">Jane</tspan>\n",
       "    <tspan class=\"displacy-lemma\" dy=\"2em\" fill=\"currentColor\" x=\"50\">jane</tspan>\n",
       "    <tspan class=\"displacy-tag\" dy=\"2em\" fill=\"currentColor\" x=\"50\">NOUN</tspan>\n",
       "</text>\n",
       "\n",
       "<text class=\"displacy-token\" fill=\"currentColor\" text-anchor=\"middle\" y=\"197.0\">\n",
       "    <tspan class=\"displacy-word\" fill=\"currentColor\" x=\"200\">likes</tspan>\n",
       "    <tspan class=\"displacy-lemma\" dy=\"2em\" fill=\"currentColor\" x=\"200\">like</tspan>\n",
       "    <tspan class=\"displacy-tag\" dy=\"2em\" fill=\"currentColor\" x=\"200\">VERB</tspan>\n",
       "</text>\n",
       "\n",
       "<text class=\"displacy-token\" fill=\"currentColor\" text-anchor=\"middle\" y=\"197.0\">\n",
       "    <tspan class=\"displacy-word\" fill=\"currentColor\" x=\"350\">flying</tspan>\n",
       "    <tspan class=\"displacy-lemma\" dy=\"2em\" fill=\"currentColor\" x=\"350\">fly</tspan>\n",
       "    <tspan class=\"displacy-tag\" dy=\"2em\" fill=\"currentColor\" x=\"350\">VERB</tspan>\n",
       "</text>\n",
       "\n",
       "<text class=\"displacy-token\" fill=\"currentColor\" text-anchor=\"middle\" y=\"197.0\">\n",
       "    <tspan class=\"displacy-word\" fill=\"currentColor\" x=\"500\">to</tspan>\n",
       "    <tspan class=\"displacy-lemma\" dy=\"2em\" fill=\"currentColor\" x=\"500\">to</tspan>\n",
       "    <tspan class=\"displacy-tag\" dy=\"2em\" fill=\"currentColor\" x=\"500\">ADP</tspan>\n",
       "</text>\n",
       "\n",
       "<text class=\"displacy-token\" fill=\"currentColor\" text-anchor=\"middle\" y=\"197.0\">\n",
       "    <tspan class=\"displacy-word\" fill=\"currentColor\" x=\"650\">Tokio</tspan>\n",
       "    <tspan class=\"displacy-lemma\" dy=\"2em\" fill=\"currentColor\" x=\"650\">Tokio</tspan>\n",
       "    <tspan class=\"displacy-tag\" dy=\"2em\" fill=\"currentColor\" x=\"650\">PROPN</tspan>\n",
       "</text>\n",
       "\n",
       "<text class=\"displacy-token\" fill=\"currentColor\" text-anchor=\"middle\" y=\"197.0\">\n",
       "    <tspan class=\"displacy-word\" fill=\"currentColor\" x=\"800\">for</tspan>\n",
       "    <tspan class=\"displacy-lemma\" dy=\"2em\" fill=\"currentColor\" x=\"800\">for</tspan>\n",
       "    <tspan class=\"displacy-tag\" dy=\"2em\" fill=\"currentColor\" x=\"800\">ADP</tspan>\n",
       "</text>\n",
       "\n",
       "<text class=\"displacy-token\" fill=\"currentColor\" text-anchor=\"middle\" y=\"197.0\">\n",
       "    <tspan class=\"displacy-word\" fill=\"currentColor\" x=\"950\">business.</tspan>\n",
       "    <tspan class=\"displacy-lemma\" dy=\"2em\" fill=\"currentColor\" x=\"950\">business</tspan>\n",
       "    <tspan class=\"displacy-tag\" dy=\"2em\" fill=\"currentColor\" x=\"950\">NOUN</tspan>\n",
       "</text>\n",
       "\n",
       "<g class=\"displacy-arrow\">\n",
       "    <path class=\"displacy-arc\" id=\"arrow-73a429cc6b9f4ee999ea5fc978fb97fa-0-0\" stroke-width=\"2px\" d=\"M62,152.0 62,127.0 197.0,127.0 197.0,152.0\" fill=\"none\" stroke=\"currentColor\"/>\n",
       "    <text dy=\"1.25em\" style=\"font-size: 0.8em; letter-spacing: 1px\">\n",
       "        <textPath xlink:href=\"#arrow-73a429cc6b9f4ee999ea5fc978fb97fa-0-0\" class=\"displacy-label\" startOffset=\"50%\" side=\"left\" fill=\"currentColor\" text-anchor=\"middle\">nsubj</textPath>\n",
       "    </text>\n",
       "    <path class=\"displacy-arrowhead\" d=\"M62,154.0 L58,146.0 66,146.0\" fill=\"currentColor\"/>\n",
       "</g>\n",
       "\n",
       "<g class=\"displacy-arrow\">\n",
       "    <path class=\"displacy-arc\" id=\"arrow-73a429cc6b9f4ee999ea5fc978fb97fa-0-1\" stroke-width=\"2px\" d=\"M212,152.0 212,127.0 347.0,127.0 347.0,152.0\" fill=\"none\" stroke=\"currentColor\"/>\n",
       "    <text dy=\"1.25em\" style=\"font-size: 0.8em; letter-spacing: 1px\">\n",
       "        <textPath xlink:href=\"#arrow-73a429cc6b9f4ee999ea5fc978fb97fa-0-1\" class=\"displacy-label\" startOffset=\"50%\" side=\"left\" fill=\"currentColor\" text-anchor=\"middle\">xcomp</textPath>\n",
       "    </text>\n",
       "    <path class=\"displacy-arrowhead\" d=\"M347.0,154.0 L351.0,146.0 343.0,146.0\" fill=\"currentColor\"/>\n",
       "</g>\n",
       "\n",
       "<g class=\"displacy-arrow\">\n",
       "    <path class=\"displacy-arc\" id=\"arrow-73a429cc6b9f4ee999ea5fc978fb97fa-0-2\" stroke-width=\"2px\" d=\"M362,152.0 362,127.0 497.0,127.0 497.0,152.0\" fill=\"none\" stroke=\"currentColor\"/>\n",
       "    <text dy=\"1.25em\" style=\"font-size: 0.8em; letter-spacing: 1px\">\n",
       "        <textPath xlink:href=\"#arrow-73a429cc6b9f4ee999ea5fc978fb97fa-0-2\" class=\"displacy-label\" startOffset=\"50%\" side=\"left\" fill=\"currentColor\" text-anchor=\"middle\">prep</textPath>\n",
       "    </text>\n",
       "    <path class=\"displacy-arrowhead\" d=\"M497.0,154.0 L501.0,146.0 493.0,146.0\" fill=\"currentColor\"/>\n",
       "</g>\n",
       "\n",
       "<g class=\"displacy-arrow\">\n",
       "    <path class=\"displacy-arc\" id=\"arrow-73a429cc6b9f4ee999ea5fc978fb97fa-0-3\" stroke-width=\"2px\" d=\"M512,152.0 512,127.0 647.0,127.0 647.0,152.0\" fill=\"none\" stroke=\"currentColor\"/>\n",
       "    <text dy=\"1.25em\" style=\"font-size: 0.8em; letter-spacing: 1px\">\n",
       "        <textPath xlink:href=\"#arrow-73a429cc6b9f4ee999ea5fc978fb97fa-0-3\" class=\"displacy-label\" startOffset=\"50%\" side=\"left\" fill=\"currentColor\" text-anchor=\"middle\">pobj</textPath>\n",
       "    </text>\n",
       "    <path class=\"displacy-arrowhead\" d=\"M647.0,154.0 L651.0,146.0 643.0,146.0\" fill=\"currentColor\"/>\n",
       "</g>\n",
       "\n",
       "<g class=\"displacy-arrow\">\n",
       "    <path class=\"displacy-arc\" id=\"arrow-73a429cc6b9f4ee999ea5fc978fb97fa-0-4\" stroke-width=\"2px\" d=\"M362,152.0 362,102.0 800.0,102.0 800.0,152.0\" fill=\"none\" stroke=\"currentColor\"/>\n",
       "    <text dy=\"1.25em\" style=\"font-size: 0.8em; letter-spacing: 1px\">\n",
       "        <textPath xlink:href=\"#arrow-73a429cc6b9f4ee999ea5fc978fb97fa-0-4\" class=\"displacy-label\" startOffset=\"50%\" side=\"left\" fill=\"currentColor\" text-anchor=\"middle\">prep</textPath>\n",
       "    </text>\n",
       "    <path class=\"displacy-arrowhead\" d=\"M800.0,154.0 L804.0,146.0 796.0,146.0\" fill=\"currentColor\"/>\n",
       "</g>\n",
       "\n",
       "<g class=\"displacy-arrow\">\n",
       "    <path class=\"displacy-arc\" id=\"arrow-73a429cc6b9f4ee999ea5fc978fb97fa-0-5\" stroke-width=\"2px\" d=\"M812,152.0 812,127.0 947.0,127.0 947.0,152.0\" fill=\"none\" stroke=\"currentColor\"/>\n",
       "    <text dy=\"1.25em\" style=\"font-size: 0.8em; letter-spacing: 1px\">\n",
       "        <textPath xlink:href=\"#arrow-73a429cc6b9f4ee999ea5fc978fb97fa-0-5\" class=\"displacy-label\" startOffset=\"50%\" side=\"left\" fill=\"currentColor\" text-anchor=\"middle\">pobj</textPath>\n",
       "    </text>\n",
       "    <path class=\"displacy-arrowhead\" d=\"M947.0,154.0 L951.0,146.0 943.0,146.0\" fill=\"currentColor\"/>\n",
       "</g>\n",
       "</svg></span>"
      ],
      "text/plain": [
       "<IPython.core.display.HTML object>"
      ]
     },
     "metadata": {},
     "output_type": "display_data"
    }
   ],
   "source": [
    "spacy.displacy.render(sentence_eff, style=\"dep\", jupyter=True, options=options_dep)"
   ]
  },
  {
   "cell_type": "markdown",
   "id": "4ef6ab02",
   "metadata": {},
   "source": [
    "### V. Named Entities"
   ]
  },
  {
   "cell_type": "markdown",
   "id": "97f5d37b",
   "metadata": {},
   "source": [
    "Now let's look at the named entities detected by spaCy. We'll compare the web_sm model against the web_trf model."
   ]
  },
  {
   "cell_type": "code",
   "execution_count": 116,
   "id": "bf0f1a5a",
   "metadata": {},
   "outputs": [],
   "source": [
    "# Let's use a common configuration for named entities.\n",
    "# `ents: None` will show all entities\n",
    "# `colors: {}` allows us to assign colors to some of those entities for a better comparison\n",
    "options_ent = {\"ents\": None, \"colors\": {\"PERSON\": \"cyan\", \"ORG\": \"#F67F77\", \"GPE\": \"#7BCB7E\"}}"
   ]
  },
  {
   "cell_type": "markdown",
   "id": "537750c8",
   "metadata": {},
   "source": [
    "Now we will use the displacy module to display named entities. First, let's start with `sentence_eff`, which uses the efficient, but not-so-accurate `web_sm` model:"
   ]
  },
  {
   "cell_type": "code",
   "execution_count": 120,
   "id": "d8d38782",
   "metadata": {},
   "outputs": [
    {
     "data": {
      "text/html": [
       "<span class=\"tex2jax_ignore\"><div class=\"entities\" style=\"line-height: 2.5; direction: ltr\">\n",
       "<mark class=\"entity\" style=\"background: cyan; padding: 0.45em 0.6em; margin: 0 0.25em; line-height: 1; border-radius: 0.35em;\">\n",
       "    Jane\n",
       "    <span style=\"font-size: 0.8em; font-weight: bold; line-height: 1; border-radius: 0.35em; vertical-align: middle; margin-left: 0.5rem\">PERSON</span>\n",
       "</mark>\n",
       " likes flying to \n",
       "<mark class=\"entity\" style=\"background: #F67F77; padding: 0.45em 0.6em; margin: 0 0.25em; line-height: 1; border-radius: 0.35em;\">\n",
       "    Tokio\n",
       "    <span style=\"font-size: 0.8em; font-weight: bold; line-height: 1; border-radius: 0.35em; vertical-align: middle; margin-left: 0.5rem\">ORG</span>\n",
       "</mark>\n",
       " for business.</div></span>"
      ],
      "text/plain": [
       "<IPython.core.display.HTML object>"
      ]
     },
     "metadata": {},
     "output_type": "display_data"
    },
    {
     "name": "stdout",
     "output_type": "stream",
     "text": [
      "web_sm model\n"
     ]
    }
   ],
   "source": [
    "spacy.displacy.render(sentence_eff, style=\"ent\", jupyter=True, options=options_ent)\n",
    "print(\"web_sm model\")"
   ]
  },
  {
   "cell_type": "markdown",
   "id": "8376c4b3",
   "metadata": {},
   "source": [
    "Let's compare the visualization above with the `sentence_acc`, which uses the more accurate model `web_trf`:"
   ]
  },
  {
   "cell_type": "code",
   "execution_count": 121,
   "id": "04d9275a",
   "metadata": {},
   "outputs": [
    {
     "data": {
      "text/html": [
       "<span class=\"tex2jax_ignore\"><div class=\"entities\" style=\"line-height: 2.5; direction: ltr\">\n",
       "<mark class=\"entity\" style=\"background: cyan; padding: 0.45em 0.6em; margin: 0 0.25em; line-height: 1; border-radius: 0.35em;\">\n",
       "    Jane\n",
       "    <span style=\"font-size: 0.8em; font-weight: bold; line-height: 1; border-radius: 0.35em; vertical-align: middle; margin-left: 0.5rem\">PERSON</span>\n",
       "</mark>\n",
       " likes flying to \n",
       "<mark class=\"entity\" style=\"background: #7BCB7E; padding: 0.45em 0.6em; margin: 0 0.25em; line-height: 1; border-radius: 0.35em;\">\n",
       "    Tokio\n",
       "    <span style=\"font-size: 0.8em; font-weight: bold; line-height: 1; border-radius: 0.35em; vertical-align: middle; margin-left: 0.5rem\">GPE</span>\n",
       "</mark>\n",
       " for business.</div></span>"
      ],
      "text/plain": [
       "<IPython.core.display.HTML object>"
      ]
     },
     "metadata": {},
     "output_type": "display_data"
    },
    {
     "name": "stdout",
     "output_type": "stream",
     "text": [
      "web_trf model\n"
     ]
    }
   ],
   "source": [
    "spacy.displacy.render(sentence_acc, style=\"ent\", jupyter=True, options=options_ent)\n",
    "print(\"web_trf model\")"
   ]
  },
  {
   "cell_type": "markdown",
   "id": "55938dd9",
   "metadata": {},
   "source": [
    "### VI. End of our First Notebook"
   ]
  },
  {
   "cell_type": "markdown",
   "id": "77a1c51d",
   "metadata": {},
   "source": [
    "This is the end of our first notebook. This is a small example of what we will be working on durin the workshop. More notebooks will be released during the workshop on May 21st, 2021."
   ]
  }
 ],
 "metadata": {
  "kernelspec": {
   "display_name": "Python 3",
   "language": "python",
   "name": "python3"
  },
  "language_info": {
   "codemirror_mode": {
    "name": "ipython",
    "version": 3
   },
   "file_extension": ".py",
   "mimetype": "text/x-python",
   "name": "python",
   "nbconvert_exporter": "python",
   "pygments_lexer": "ipython3",
   "version": "3.7.6"
  }
 },
 "nbformat": 4,
 "nbformat_minor": 5
}
