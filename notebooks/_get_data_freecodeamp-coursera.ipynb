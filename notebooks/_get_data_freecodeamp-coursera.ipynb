{
 "cells": [
  {
   "cell_type": "markdown",
   "id": "abfbd2ad",
   "metadata": {},
   "source": [
    "# Getting Coursera free courses data"
   ]
  },
  {
   "cell_type": "markdown",
   "id": "65f696f7",
   "metadata": {},
   "source": [
    "This notebook is not part of the workshop excercises, however I wanted to share it for new pythonistas who want to know how I got the data for `Notebook 4`."
   ]
  },
  {
   "cell_type": "markdown",
   "id": "2d75ab8e",
   "metadata": {},
   "source": [
    "## Installing dependencies"
   ]
  },
  {
   "cell_type": "markdown",
   "id": "31287504",
   "metadata": {},
   "source": [
    "First, you will want to install BeautifulSoup and pandas. Depending on your installation, do:\n",
    "\n",
    "```bash\n",
    "# PIP\n",
    "> pip install pandas\n",
    "> pip install bs4\n",
    "\n",
    "# conda\n",
    "> conda actitvate spacy_test\n",
    "> conda install pandas\n",
    "> conda install bs4\n",
    "```\n"
   ]
  },
  {
   "cell_type": "markdown",
   "id": "dd8c46fd",
   "metadata": {},
   "source": [
    "## Get data from freeCodeCamp.org"
   ]
  },
  {
   "cell_type": "markdown",
   "id": "fb000200",
   "metadata": {},
   "source": [
    "We will be using a very cool blogpost from freeCodeCamp.org titled `I uncovered 1,600 Coursera courses that are still completely free` and written by Dhawal Shah. The post is freely available here: [https://www.freecodecamp.org/news/coursera-free-online-courses-6d84cdb30da/](https://www.freecodecamp.org/news/coursera-free-online-courses-6d84cdb30da/)"
   ]
  },
  {
   "cell_type": "code",
   "execution_count": 134,
   "id": "c276a597",
   "metadata": {},
   "outputs": [],
   "source": [
    "import regex as re # standard Python package (no need to install)\n",
    "import requests # standard Python package (no need to install)\n",
    "\n",
    "from bs4 import BeautifulSoup\n",
    "import pandas as pd"
   ]
  },
  {
   "cell_type": "markdown",
   "id": "565c74e2",
   "metadata": {},
   "source": [
    "Now we need to put the URL in a string. You can actually do this for whatever website you want."
   ]
  },
  {
   "cell_type": "code",
   "execution_count": 135,
   "id": "a2d23251",
   "metadata": {},
   "outputs": [],
   "source": [
    "URL = \"https://www.freecodecamp.org/news/coursera-free-online-courses-6d84cdb30da/\""
   ]
  },
  {
   "cell_type": "markdown",
   "id": "5d57aacc",
   "metadata": {},
   "source": [
    "We will then write the response text to a text file with a `.html` extension. We will save it under the `data/raw/` directory for archival purposes (in case, for instance, that the post gets taken down)."
   ]
  },
  {
   "cell_type": "code",
   "execution_count": 136,
   "id": "354dbfe7",
   "metadata": {},
   "outputs": [],
   "source": [
    "response = requests.get(URL) # Fetch html\n",
    "\n",
    "out_dir = '../data/raw/'\n",
    "file_name = 'freecodecamp.org_news_coursera-free-online-courses.html'\n",
    "\n",
    "with open(out_dir + file_name, 'w') as whtml:\n",
    "    whtml.write(response.text)"
   ]
  },
  {
   "cell_type": "markdown",
   "id": "72c88e78",
   "metadata": {},
   "source": [
    "## Process the html content with BeautifulSoup"
   ]
  },
  {
   "cell_type": "markdown",
   "id": "54744019",
   "metadata": {},
   "source": [
    "[BeautifulSoup](https://pypi.org/project/beautifulsoup4/) is a popular package to process html and xml data. We will loop through the `response` until we find the `<div class=\"post-content\">` tag, which contains the information we're interested in. You can take a look at the contents yourself by opening the raw file in your text processor.\n",
    "\n",
    "**Our objective is the following:** create a Pandas dataframe that contains a unique `course_id` for each course, the `name` of the course, its `category` (Computer Science, Business, Humanities, etc), and the `institution` that teaches it. We will then write it to a `.csv` file under the `data/proessed/` directory that will later allow us to easily retreive it and work on it during the workshop."
   ]
  },
  {
   "cell_type": "code",
   "execution_count": 137,
   "id": "f7079f14",
   "metadata": {},
   "outputs": [],
   "source": [
    "soup = BeautifulSoup(response.text, 'html.parser') # Parse html\n",
    "\n",
    "# Now we'll search for the tag that interests us. There is only one with the attributes \"class=\"post-content\"\n",
    "post_content = soup.find(attrs={\"class\": \"post-content\"}) "
   ]
  },
  {
   "cell_type": "markdown",
   "id": "99aaaa3e",
   "metadata": {},
   "source": [
    "Now we will start to loop over the parsed html. There are a few important elements in the html that we need to take into account. Web scraping and parsing is still more of an art than a science, and I got this information by inspecting the html file.\n",
    "\n",
    "**Important elements:**\n",
    "\n",
    "- The `<h2>` tags indicate the `category` of each course. If we inspect the `<h2>` elements, we will notice that they contain some extra information indicating how many courses are listed under each category, for instance `Computer Science (97)`. We will want to strip the final five characters of the string: `\\s\\(\\d\\d\\)`\n",
    "- The `<ul>` tags follow each `<h2>` category and they contain course elements tagged as `<li>`\n",
    "- The `<li>` tags contain `<a>` tags that have both text and hrefs for each follow each course. We will take the text as the `name` of the course and each href as its `URL`.\n",
    "- The `<em>` tags are also nested under each list `<li>` element. These `<em>` tags contain name of each teaching `institution` and there is only one per course.\n",
    "\n",
    "Because of the recursive nature of the html data, we will be traversing it with nested loops and we will use a list of lists to keep track of it all."
   ]
  },
  {
   "cell_type": "code",
   "execution_count": 138,
   "id": "236936cc",
   "metadata": {},
   "outputs": [],
   "source": [
    "course_id = 0  # Unique course id numbers. The number will increase as we find <li> tags.\n",
    "h2_seen = 0  # Will help avoid classifying <li> elements without having seen a category first\n",
    "\n",
    "pattern = r' \\([0-9]+\\)'  # Strip ending from `CATEGORY (\\d\\d)` strings\n",
    "category = ''  # Keep track of each seen category (h2.text)\n",
    "\n",
    "data = []  # List of lists to create a pandas dataframe"
   ]
  },
  {
   "cell_type": "markdown",
   "id": "620a4875",
   "metadata": {},
   "source": [
    "Now, we will loop over the contents of `post_content`."
   ]
  },
  {
   "cell_type": "code",
   "execution_count": 139,
   "id": "804a13d9",
   "metadata": {},
   "outputs": [],
   "source": [
    "for i in post_content.contents:\n",
    "    if i.name=='h2':\n",
    "        h2_seen = 1\n",
    "        category = re.sub(pattern, '', i.string)  # Strip the ending `\\s\\(\\d\\d\\)`\n",
    "    else:\n",
    "        if h2_seen == 1:  # This is not strictly necessary in our data, but it's good practice\n",
    "            if i.name =='ul':\n",
    "                for ul in i.contents:  # Loop through the <ul> tags\n",
    "                    if ul.name=='li':  # Find list elements\n",
    "                        list_element = ul\n",
    "                        try:  # Make sure they are not empty\n",
    "                            list_element.a.text\n",
    "                        except:\n",
    "                            next  # If empty list elements exist, skip\n",
    "                        else:  # Do stuff with our found <li> elements\n",
    "                            course_name = list_element.a.text\n",
    "                            course_URL = list_element.a['href']\n",
    "                            course_instutution = list_element.em.text\n",
    "                            course_id += 1\n",
    "                            # Store the above variables for later\n",
    "                            data.append([course_id, course_name, course_URL, course_instutution])"
   ]
  },
  {
   "cell_type": "markdown",
   "id": "01e2b766",
   "metadata": {},
   "source": [
    "## Create and query our Pandas dataframe"
   ]
  },
  {
   "cell_type": "code",
   "execution_count": 140,
   "id": "66fed2de",
   "metadata": {},
   "outputs": [],
   "source": [
    "df = pd.DataFrame(data, columns=['id', 'name', 'url', 'institution'])"
   ]
  },
  {
   "cell_type": "markdown",
   "id": "2edd016a",
   "metadata": {},
   "source": [
    "Now let's take a closer look at our dataframe. We will repeat these steps during the workshop (when we load this data), so feel free to skip to the end."
   ]
  },
  {
   "cell_type": "code",
   "execution_count": 141,
   "id": "2a563623",
   "metadata": {},
   "outputs": [
    {
     "name": "stdout",
     "output_type": "stream",
     "text": [
      "<class 'pandas.core.frame.DataFrame'>\n",
      "RangeIndex: 1632 entries, 0 to 1631\n",
      "Data columns (total 4 columns):\n",
      " #   Column       Non-Null Count  Dtype \n",
      "---  ------       --------------  ----- \n",
      " 0   id           1632 non-null   int64 \n",
      " 1   name         1632 non-null   object\n",
      " 2   url          1632 non-null   object\n",
      " 3   institution  1632 non-null   object\n",
      "dtypes: int64(1), object(3)\n",
      "memory usage: 51.1+ KB\n"
     ]
    }
   ],
   "source": [
    "df.info()"
   ]
  },
  {
   "cell_type": "markdown",
   "id": "d8c1ea94",
   "metadata": {},
   "source": [
    "Let's now look at the top three items in our dataframe"
   ]
  },
  {
   "cell_type": "code",
   "execution_count": 142,
   "id": "c7a784c0",
   "metadata": {},
   "outputs": [
    {
     "data": {
      "text/html": [
       "<div>\n",
       "<style scoped>\n",
       "    .dataframe tbody tr th:only-of-type {\n",
       "        vertical-align: middle;\n",
       "    }\n",
       "\n",
       "    .dataframe tbody tr th {\n",
       "        vertical-align: top;\n",
       "    }\n",
       "\n",
       "    .dataframe thead th {\n",
       "        text-align: right;\n",
       "    }\n",
       "</style>\n",
       "<table border=\"1\" class=\"dataframe\">\n",
       "  <thead>\n",
       "    <tr style=\"text-align: right;\">\n",
       "      <th></th>\n",
       "      <th>id</th>\n",
       "      <th>name</th>\n",
       "      <th>url</th>\n",
       "      <th>institution</th>\n",
       "    </tr>\n",
       "  </thead>\n",
       "  <tbody>\n",
       "    <tr>\n",
       "      <th>0</th>\n",
       "      <td>1</td>\n",
       "      <td>Machine Learning</td>\n",
       "      <td>https://www.classcentral.com/course/machine-le...</td>\n",
       "      <td>Stanford University</td>\n",
       "    </tr>\n",
       "    <tr>\n",
       "      <th>1</th>\n",
       "      <td>2</td>\n",
       "      <td>Information Systems Auditing, Controls and Ass...</td>\n",
       "      <td>https://www.classcentral.com/course/informatio...</td>\n",
       "      <td>The Hong Kong University of Science and Techno...</td>\n",
       "    </tr>\n",
       "    <tr>\n",
       "      <th>2</th>\n",
       "      <td>3</td>\n",
       "      <td>Algorithms, Part I</td>\n",
       "      <td>https://www.classcentral.com/course/algs4partI...</td>\n",
       "      <td>Princeton University</td>\n",
       "    </tr>\n",
       "  </tbody>\n",
       "</table>\n",
       "</div>"
      ],
      "text/plain": [
       "   id                                               name  \\\n",
       "0   1                                   Machine Learning   \n",
       "1   2  Information Systems Auditing, Controls and Ass...   \n",
       "2   3                                 Algorithms, Part I   \n",
       "\n",
       "                                                 url  \\\n",
       "0  https://www.classcentral.com/course/machine-le...   \n",
       "1  https://www.classcentral.com/course/informatio...   \n",
       "2  https://www.classcentral.com/course/algs4partI...   \n",
       "\n",
       "                                         institution  \n",
       "0                                Stanford University  \n",
       "1  The Hong Kong University of Science and Techno...  \n",
       "2                               Princeton University  "
      ]
     },
     "execution_count": 142,
     "metadata": {},
     "output_type": "execute_result"
    }
   ],
   "source": [
    "df.head(3)"
   ]
  },
  {
   "cell_type": "markdown",
   "id": "f6a2f9a5",
   "metadata": {},
   "source": [
    "Let's look at the bottom three entries"
   ]
  },
  {
   "cell_type": "code",
   "execution_count": 143,
   "id": "80762e12",
   "metadata": {},
   "outputs": [
    {
     "data": {
      "text/html": [
       "<div>\n",
       "<style scoped>\n",
       "    .dataframe tbody tr th:only-of-type {\n",
       "        vertical-align: middle;\n",
       "    }\n",
       "\n",
       "    .dataframe tbody tr th {\n",
       "        vertical-align: top;\n",
       "    }\n",
       "\n",
       "    .dataframe thead th {\n",
       "        text-align: right;\n",
       "    }\n",
       "</style>\n",
       "<table border=\"1\" class=\"dataframe\">\n",
       "  <thead>\n",
       "    <tr style=\"text-align: right;\">\n",
       "      <th></th>\n",
       "      <th>id</th>\n",
       "      <th>name</th>\n",
       "      <th>url</th>\n",
       "      <th>institution</th>\n",
       "    </tr>\n",
       "  </thead>\n",
       "  <tbody>\n",
       "    <tr>\n",
       "      <th>1629</th>\n",
       "      <td>1630</td>\n",
       "      <td>Ensino Híbrido: Personalização e Tecnologia na...</td>\n",
       "      <td>https://www.classcentral.com/course/ensino-hib...</td>\n",
       "      <td>Fundação Lemann</td>\n",
       "    </tr>\n",
       "    <tr>\n",
       "      <th>1630</th>\n",
       "      <td>1631</td>\n",
       "      <td>Aprenda a ensinar programação com o Programaê!</td>\n",
       "      <td>https://www.classcentral.com/course/programae-...</td>\n",
       "      <td>Fundação Lemann</td>\n",
       "    </tr>\n",
       "    <tr>\n",
       "      <th>1631</th>\n",
       "      <td>1632</td>\n",
       "      <td>Preparing for and Passing Technical Certificat...</td>\n",
       "      <td>https://www.classcentral.com/course/preparing-...</td>\n",
       "      <td>ROI Training</td>\n",
       "    </tr>\n",
       "  </tbody>\n",
       "</table>\n",
       "</div>"
      ],
      "text/plain": [
       "        id                                               name  \\\n",
       "1629  1630  Ensino Híbrido: Personalização e Tecnologia na...   \n",
       "1630  1631     Aprenda a ensinar programação com o Programaê!   \n",
       "1631  1632  Preparing for and Passing Technical Certificat...   \n",
       "\n",
       "                                                    url      institution  \n",
       "1629  https://www.classcentral.com/course/ensino-hib...  Fundação Lemann  \n",
       "1630  https://www.classcentral.com/course/programae-...  Fundação Lemann  \n",
       "1631  https://www.classcentral.com/course/preparing-...     ROI Training  "
      ]
     },
     "execution_count": 143,
     "metadata": {},
     "output_type": "execute_result"
    }
   ],
   "source": [
    "df.tail(3)"
   ]
  },
  {
   "cell_type": "markdown",
   "id": "f8f539a8",
   "metadata": {},
   "source": [
    "Great. Now we can see that there are more than the advertised 1,600 courses. There are, in fact 1632 courses! Let's see how many institutions there are in our data."
   ]
  },
  {
   "cell_type": "code",
   "execution_count": 144,
   "id": "5f60c239",
   "metadata": {},
   "outputs": [
    {
     "data": {
      "text/plain": [
       "177"
      ]
     },
     "execution_count": 144,
     "metadata": {},
     "output_type": "execute_result"
    }
   ],
   "source": [
    "df['institution'].nunique()"
   ]
  },
  {
   "cell_type": "markdown",
   "id": "c08516b6",
   "metadata": {},
   "source": [
    "Now let's take a look at the sorted list of institutions:"
   ]
  },
  {
   "cell_type": "code",
   "execution_count": 145,
   "id": "5fdd3067",
   "metadata": {},
   "outputs": [
    {
     "data": {
      "text/plain": [
       "['(ISC)²',\n",
       " 'Amazon Web Services',\n",
       " 'American Museum of Natural History',\n",
       " 'Arizona State University',\n",
       " 'Atlassian',\n",
       " 'Berklee College of Music',\n",
       " 'Brightline Initiative',\n",
       " 'California Institute of Technology',\n",
       " 'California Institute of the Arts',\n",
       " 'Carnegie Mellon University',\n",
       " 'Case Western Reserve University',\n",
       " 'Checkpoint',\n",
       " 'Columbia University',\n",
       " 'Commonwealth Education Trust',\n",
       " 'Copenhagen Business School',\n",
       " 'Curtis Institute of Music',\n",
       " 'Duke University',\n",
       " 'E-Learning Development Fund',\n",
       " 'EIT Digital',\n",
       " 'EMLYON Business School',\n",
       " 'ESADE Business and Law School',\n",
       " 'ESCP Europe',\n",
       " 'ESSEC Business School',\n",
       " 'Eindhoven University of Technology',\n",
       " 'Emory University',\n",
       " 'Erasmus University Rotterdam',\n",
       " 'Exploratorium',\n",
       " 'Fudan University',\n",
       " 'Fundação Instituto de Administração',\n",
       " 'Fundação Lemann',\n",
       " 'George Washington University',\n",
       " 'Georgia Institute of Technology',\n",
       " 'Ghent University',\n",
       " 'GitLab',\n",
       " 'Goldman Sachs',\n",
       " 'Goldsmiths, University of London',\n",
       " 'Google Cloud',\n",
       " 'Google Daydream Impact',\n",
       " 'HEC Paris',\n",
       " 'Hebrew University of Jerusalem',\n",
       " 'Higher School of Economics',\n",
       " 'IBM',\n",
       " 'IE Business School',\n",
       " 'IESE Business School',\n",
       " 'Icahn School of Medicine at Mount Sinai',\n",
       " 'Imperial College London',\n",
       " 'Indian School of Business',\n",
       " 'Insper',\n",
       " 'Institut Mines-Télécom',\n",
       " 'Institut d’Etudes Politiques de Paris',\n",
       " 'Instituto Tecnológico de Aeronáutica',\n",
       " 'Intel',\n",
       " 'Johns Hopkins University',\n",
       " 'Karlsruhe Institute of Technology',\n",
       " 'Korea Advanced Institute of Science and Technology',\n",
       " 'Koç University',\n",
       " 'Laureate International Universities',\n",
       " 'Leiden University',\n",
       " 'Ludwig-Maximilians-Universität München',\n",
       " 'Lund University',\n",
       " 'Macquarie University',\n",
       " 'Match Teacher Residency',\n",
       " 'McMaster University',\n",
       " 'Michigan State University',\n",
       " 'Moscow Institute of Physics and Technology',\n",
       " 'Moscow State Institute of International Relations (MGIMO)',\n",
       " 'Nanjing University',\n",
       " 'Nanyang Technological University',\n",
       " 'National Research Nuclear University MEPhI',\n",
       " 'National Taiwan University',\n",
       " 'National University of Singapore',\n",
       " 'New Teacher Center',\n",
       " 'New York University (NYU)',\n",
       " 'Northeastern University',\n",
       " 'Northeastern University ',\n",
       " 'Northwestern University',\n",
       " 'Novosibirsk State University',\n",
       " 'Novosibirsk State University ',\n",
       " 'Online Learning Campus – World Bank Group',\n",
       " 'Osmosis University',\n",
       " 'Peking University',\n",
       " 'Pennsylvania State University',\n",
       " 'Pohang University of Science and Technology',\n",
       " 'Politecnico di Milano',\n",
       " 'Pontificia Universidad Católica de Chile',\n",
       " 'Princeton University',\n",
       " 'ROI Training',\n",
       " 'Relay Graduate School of Education',\n",
       " 'Rice University',\n",
       " 'Rutgers University',\n",
       " 'SAS',\n",
       " 'SOAS University of London',\n",
       " 'Saint Petersburg State University',\n",
       " 'Sapienza University of Rome',\n",
       " 'Shanghai Jiao Tong University',\n",
       " 'St. Petersburg State Polytechnic University',\n",
       " 'Stanford University',\n",
       " 'State University of New York',\n",
       " 'Sungkyunkwan University',\n",
       " 'Technical University of Denmark (DTU)',\n",
       " 'Technion – Israel Institute of Technology',\n",
       " 'Technische Universität München (Technical University of Munich)',\n",
       " 'Tecnológico de Monterrey',\n",
       " 'Tel Aviv University',\n",
       " 'The Chinese University of Hong Kong',\n",
       " 'The Hong Kong University of Science and Technology',\n",
       " 'The Museum of Modern Art',\n",
       " 'The University of Chicago ',\n",
       " 'The University of Hong Kong',\n",
       " 'The University of North Carolina at Chapel Hill',\n",
       " 'The University of Sydney',\n",
       " 'The University of Tokyo',\n",
       " 'Tomsk State University',\n",
       " 'Tsinghua University',\n",
       " 'United Cities and Local Governments of Africa',\n",
       " 'Universidad Austral',\n",
       " 'Universidad Nacional Autónoma de México',\n",
       " 'Universidad de Chile',\n",
       " 'Universidad de los Andes',\n",
       " 'Universidade Estadual de Campinas',\n",
       " 'Universidade de São Paulo',\n",
       " 'Universitat Autònoma de Barcelona (Autonomous University of Barcelona)',\n",
       " 'University System of Georgia',\n",
       " 'University at Buffalo',\n",
       " 'University of Alberta',\n",
       " 'University of Amsterdam',\n",
       " 'University of Arizona',\n",
       " 'University of Barcelona',\n",
       " 'University of California, Davis',\n",
       " 'University of California, Irvine',\n",
       " 'University of California, San Diego',\n",
       " 'University of California, San Diego ',\n",
       " 'University of California, Santa Cruz',\n",
       " 'University of Cape Town',\n",
       " 'University of Colorado Boulder',\n",
       " 'University of Colorado System',\n",
       " 'University of Copenhagen',\n",
       " 'University of Edinburgh',\n",
       " 'University of Florida',\n",
       " 'University of Geneva',\n",
       " 'University of Glasgow',\n",
       " 'University of Houston System',\n",
       " 'University of Illinois at Urbana-Champaign',\n",
       " 'University of Kentucky',\n",
       " 'University of Lausanne',\n",
       " 'University of London International Programmes',\n",
       " 'University of Manchester',\n",
       " 'University of Maryland, College Park',\n",
       " 'University of Melbourne',\n",
       " 'University of Michigan',\n",
       " 'University of Minnesota',\n",
       " 'University of New Mexico',\n",
       " 'University of New South Wales',\n",
       " 'University of Pennsylvania',\n",
       " 'University of Pittsburgh',\n",
       " 'University of Rochester',\n",
       " 'University of Toronto',\n",
       " 'University of Virginia',\n",
       " 'University of Washington',\n",
       " 'University of Western Australia',\n",
       " 'University of Zurich',\n",
       " 'Università Bocconi',\n",
       " 'Utrecht University',\n",
       " 'Vanderbilt University',\n",
       " 'Wesleyan University',\n",
       " 'West Virginia University',\n",
       " 'Xi’an Jiaotong University',\n",
       " 'Yad Vashem – The World Holocaust Remembrance Center',\n",
       " 'Yale University',\n",
       " 'Yeshiva University',\n",
       " 'Yonsei University',\n",
       " 'deeplearning.ai',\n",
       " 'École Polytechnique',\n",
       " 'École Polytechnique Fédérale de Lausanne',\n",
       " 'École des Ponts Paritech',\n",
       " 'École normale supérieure',\n",
       " 'ФРОО']"
      ]
     },
     "execution_count": 145,
     "metadata": {},
     "output_type": "execute_result"
    }
   ],
   "source": [
    "sorted(df['institution'].unique())"
   ]
  },
  {
   "cell_type": "markdown",
   "id": "885a0463",
   "metadata": {},
   "source": [
    "How many and which courses from our list are taught by the University of Arizona?"
   ]
  },
  {
   "cell_type": "code",
   "execution_count": 146,
   "id": "8350ace4",
   "metadata": {},
   "outputs": [
    {
     "name": "stdout",
     "output_type": "stream",
     "text": [
      "Number of courses taught by the University of Arizona: 5\n",
      "\n",
      "Course name: Astronomy: Exploring Time and Space\n",
      "Course url: https://www.classcentral.com/course/astro-3007\n",
      "Institution: University of Arizona\n",
      "\n",
      "Course name: Biosphere 2 Science for the Future of Our Planet\n",
      "Course url: https://www.classcentral.com/course/biosphere-science-future-10470\n",
      "Institution: University of Arizona\n",
      "\n",
      "Course name: Astrobiology: Exploring Other Worlds\n",
      "Course url: https://www.classcentral.com/course/astrobiology-exploring-other-worlds-13556\n",
      "Institution: University of Arizona\n",
      "\n",
      "Course name: Roman Art and Archaeology\n",
      "Course url: https://www.classcentral.com/course/roman-art-archaeology-5796\n",
      "Institution: University of Arizona\n",
      "\n",
      "Course name: Introduction to the Orbital Perspective\n",
      "Course url: https://www.classcentral.com/course/orbitalperspective-8291\n",
      "Institution: University of Arizona\n",
      "\n"
     ]
    }
   ],
   "source": [
    "uaz_courses = df['institution'] == 'University of Arizona'\n",
    "\n",
    "print(f\"Number of courses taught by the University of Arizona: {df[uaz_courses]['institution'].count()}\\n\")\n",
    "\n",
    "uaz_names = list(df[uaz_courses]['name'])\n",
    "uaz_urls = list(df[uaz_courses]['url'])\n",
    "ensure_institution = list(df[uaz_courses]['institution'])\n",
    "\n",
    "for i, j in enumerate(uaz_names):\n",
    "    print(f\"Course name: {uaz_names[i]}\\nCourse url: {uaz_urls[i]}\\nInstitution: {ensure_institution[i]}\\n\")"
   ]
  },
  {
   "cell_type": "markdown",
   "id": "9199464f",
   "metadata": {},
   "source": [
    "Let's see how many empty values our dataframe has:"
   ]
  },
  {
   "cell_type": "code",
   "execution_count": 147,
   "id": "c865e6c5",
   "metadata": {},
   "outputs": [
    {
     "name": "stdout",
     "output_type": "stream",
     "text": [
      "Number of empty ID fields: 0\n",
      "Number of empty name fields: 0\n",
      "Number of empty url fields: 0\n",
      "Number of empty institution fields: 0\n"
     ]
    }
   ],
   "source": [
    "print(f\"Number of empty ID fields: {df['id'].isnull().sum()}\\n\\\n",
    "Number of empty name fields: {df['name'].isnull().sum()}\\n\\\n",
    "Number of empty url fields: {df['url'].isnull().sum()}\\n\\\n",
    "Number of empty institution fields: {df['institution'].isnull().sum()}\")"
   ]
  },
  {
   "cell_type": "markdown",
   "id": "b64d1668",
   "metadata": {},
   "source": [
    "## Save our data as csv"
   ]
  },
  {
   "cell_type": "markdown",
   "id": "6224b294",
   "metadata": {},
   "source": [
    "Let's finish this notebook by saving `csv_data` to our `data/processed/` directory so that we can retreive it during the workshop. No need to worry about fields with commas since they are quoted by default. "
   ]
  },
  {
   "cell_type": "code",
   "execution_count": 148,
   "id": "106d1fdb",
   "metadata": {},
   "outputs": [],
   "source": [
    "out_dir = '../data/processed/'\n",
    "file_name = 'freecodecamp.org_news_coursera-free-online-courses.csv'\n",
    "\n",
    "csv_data = df.to_csv(out_dir + file_name, index=False)\n",
    "# df_4.to_csv('../data/Penguins/my_penguins.csv')"
   ]
  }
 ],
 "metadata": {
  "kernelspec": {
   "display_name": "Python 3",
   "language": "python",
   "name": "python3"
  },
  "language_info": {
   "codemirror_mode": {
    "name": "ipython",
    "version": 3
   },
   "file_extension": ".py",
   "mimetype": "text/x-python",
   "name": "python",
   "nbconvert_exporter": "python",
   "pygments_lexer": "ipython3",
   "version": "3.7.6"
  }
 },
 "nbformat": 4,
 "nbformat_minor": 5
}
